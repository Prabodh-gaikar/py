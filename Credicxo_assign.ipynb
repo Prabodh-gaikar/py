{
  "nbformat": 4,
  "nbformat_minor": 0,
  "metadata": {
    "colab": {
      "name": "Credicxo_assign.ipynb",
      "provenance": [],
      "collapsed_sections": [],
      "authorship_tag": "ABX9TyOMR183C6TNJ86FpvCepugx",
      "include_colab_link": true
    },
    "kernelspec": {
      "name": "python3",
      "display_name": "Python 3"
    },
    "language_info": {
      "name": "python"
    },
    "accelerator": "GPU"
  },
  "cells": [
    {
      "cell_type": "markdown",
      "metadata": {
        "id": "view-in-github",
        "colab_type": "text"
      },
      "source": [
        "<a href=\"https://colab.research.google.com/github/Prabodh-gaikar/py/blob/main/Credicxo_assign.ipynb\" target=\"_parent\"><img src=\"https://colab.research.google.com/assets/colab-badge.svg\" alt=\"Open In Colab\"/></a>"
      ]
    },
    {
      "cell_type": "code",
      "execution_count": null,
      "metadata": {
        "id": "9mt77QsrYtUV"
      },
      "outputs": [],
      "source": [
        "# importing the libraries needed \n",
        "import requests\n",
        "from bs4 import BeautifulSoup\n",
        "import pandas as pd\n",
        "import numpy as np"
      ]
    },
    {
      "cell_type": "code",
      "source": [
        "# declaring the list of empty variables, So that we can append the data overall\n",
        "links = []\n",
        "phnname = []\n",
        "price = []\n",
        "des = []\n",
        "start_link = \"https://www.flipkart.com\""
      ],
      "metadata": {
        "id": "TuKgpfK0400v"
      },
      "execution_count": null,
      "outputs": []
    },
    {
      "cell_type": "code",
      "source": [
        "# The whole core of the script\n",
        "for i in range(1,20):\n",
        "  url = \"https://www.flipkart.com/search?q=mi+phones&otracker=search&otracker1=search&marketplace=FLIPKART&as-show=on&as=off&page=\"+str(i)\n",
        "  req = requests.get(url)\n",
        "  content = BeautifulSoup(req.content,'html.parser')\n",
        "  data = content.find_all('div',{'class':'_2kHMtA'})\n",
        "  rest_link = content.find('a')['href']\n",
        "  name = content.find('div',attrs={'class':'_4rR01T'})\n",
        "  price = content.find('div',attrs={'class':'_30jeq3 _1_WHN1'})\n",
        "  des = content.find('li',attrs={'class':'_21Ahn-'})\n",
        "\n",
        "\n",
        "  for i in name:\n",
        "    phnname.append(name.text)\n",
        "  for i in price:\n",
        "    price.append(price.text)\n",
        "  for i in links:\n",
        "    links.append(start_link+rest_link)\n",
        "  for i in des:\n",
        "    des_=(des[1].text.replace('\\n', '') if len(des) >1 else '*****')\n",
        "    des.append(des_)\n"
      ],
      "metadata": {
        "id": "RZ8j_tMxZzem"
      },
      "execution_count": null,
      "outputs": []
    },
    {
      "cell_type": "code",
      "source": [
        "# Creating a dataframe\n",
        "dataframe={\"Phone_names\":phnname,\"Links\":links,\"Price\":price,\"Description\":des}\n",
        "Final_dataframe = pd.DataFrame(dataframe)\n",
        "print(Final_dataframe)"
      ],
      "metadata": {
        "id": "rEb-7BuofAj_"
      },
      "execution_count": null,
      "outputs": []
    },
    {
      "cell_type": "code",
      "source": [
        "# Save the data in json format\n",
        "dataframe.to_json(\"List of MI phones from Flipcart\")"
      ],
      "metadata": {
        "id": "RCJ1a9dyqK2e"
      },
      "execution_count": null,
      "outputs": []
    }
  ]
}